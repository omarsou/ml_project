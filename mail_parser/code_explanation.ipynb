{
 "cells": [
  {
   "cell_type": "markdown",
   "metadata": {},
   "source": [
    "    This a notebook is made in order to explain how the mail_parser module parse a formal mail in order to get only the body."
   ]
  },
  {
   "cell_type": "code",
   "execution_count": 1,
   "metadata": {
    "ExecuteTime": {
     "end_time": "2020-04-26T14:49:15.163368Z",
     "start_time": "2020-04-26T14:49:15.154927Z"
    }
   },
   "outputs": [],
   "source": [
    "import sys \n",
    "sys.path.insert(0, '..')\n",
    "from mail_parser.mail_parser import MailParser"
   ]
  },
  {
   "cell_type": "code",
   "execution_count": 2,
   "metadata": {
    "ExecuteTime": {
     "end_time": "2020-04-26T14:49:17.969268Z",
     "start_time": "2020-04-26T14:49:17.965485Z"
    }
   },
   "outputs": [],
   "source": [
    "example = \"\"\"\n",
    "To: XYZ\n",
    "\n",
    "CC/BCC:\n",
    "\n",
    "Subject: Invitation to a birthday party\n",
    "\n",
    "BLABLABLABLABLA\n",
    "BLOBLOBLOBLOBLOBLO\n",
    "\n",
    "Our reference: XX-00000\n",
    "Your reference: XXX-0000000-00000\n",
    "----------Forwarding process-----------\n",
    "\n",
    "Due to an extraordinarily high number of customer contacts in our service centers and at our stations, we are facing delays in replying to your emails. We apologize for any inconveniences and appeal to your understanding to allow us to prioritize the most urgent inquires.  \n",
    "\n",
    "Please use the following links which answer to most of your inquiries:\n",
    "https://www.example.com/en/example/example\n",
    "\n",
    "As mentioned, the flight was delayed less than 3 hours (30 minutes), passengers \n",
    "are therefore not entitled to compensation. So, we cannot grant your request.\n",
    "\n",
    "Thank you\n",
    "\n",
    "\n",
    "IMAGE\n",
    "\n",
    "JACQUES LAMA\n",
    "Example - Example Air Transport\n",
    "Example, Jacques Lama Airport\n",
    "\n",
    "NOTE : THIS IS ONLY A USELESS SENTENCE, BECAUSE SOMETIMES THERE ARE OTHER \"TRUE SENTENCES\" AT THE END BUT THEY ARE NOT IMPORTANT.\n",
    "\n",
    "E-mail: EXAMPLE@EXAMPLE.COM\n",
    "Website: www.example.com\n",
    "\n",
    "\"\"\""
   ]
  },
  {
   "cell_type": "markdown",
   "metadata": {},
   "source": [
    "# First thing : Preprocess"
   ]
  },
  {
   "cell_type": "code",
   "execution_count": 5,
   "metadata": {
    "ExecuteTime": {
     "end_time": "2020-04-25T23:46:37.922318Z",
     "start_time": "2020-04-25T23:46:37.915713Z"
    }
   },
   "outputs": [],
   "source": [
    "def preprocess(txt):\n",
    "    \"\"\"some preprocessing\"\"\"\n",
    "    text = txt.replace('\\n \\n', '\\n\\n').replace(':\\n', '\\n\\n').replace(',\\n', '\\n\\n') # Customize\n",
    "    for bad in sentences_to_delete:\n",
    "        text = text.replace(bad, '') # Customize \n",
    "    for old, new in replacements:\n",
    "        text = re.sub(old, new, text)\n",
    "    return text"
   ]
  },
  {
   "cell_type": "code",
   "execution_count": 6,
   "metadata": {
    "ExecuteTime": {
     "end_time": "2020-04-25T23:46:53.860752Z",
     "start_time": "2020-04-25T23:46:53.855979Z"
    }
   },
   "outputs": [
    {
     "name": "stdout",
     "output_type": "stream",
     "text": [
      "\n",
      "To: XYZ\n",
      "\n",
      "CC/BCC:\n",
      "\n",
      "Subject: Invitation to a birthday party\n",
      "\n",
      "BLABLABLABLABLA\n",
      "BLOBLOBLOBLOBLOBLO\n",
      "\n",
      "Our reference: XX-00000\n",
      "Your reference: XXX-0000000-00000\n",
      "----------Forwarding process-----------\n",
      "\n",
      "Due to an extraordinarily high number of customer contacts in our service centers and at our stations, we are facing delays in replying to your emails. We apologize for any inconveniences and appeal to your understanding to allow us to prioritize the most urgent inquires.  \n",
      "\n",
      "Please use the following links which answer to most of your inquiries:\n",
      "https://www.example.com/en/example/example\n",
      "\n",
      "As mentioned, the flight was delayed less than 3 hours (30 minutes), passengers \n",
      "are therefore not entitled to compensation. So, we cannot grant your request.\n",
      "\n",
      "Thank you\n",
      "\n",
      "\n",
      "IMAGE\n",
      "\n",
      "JACQUES LAMA\n",
      "Example - Example Air Transport\n",
      "Example, Jacques Lama Airport\n",
      "\n",
      "NOTE : THIS IS ONLY A USELESS SENTENCE, BECAUSE SOMETIMES THERE ARE OTHER \"TRUE SENTENCES\" AT THE END BUT THEY ARE NOT IMPORTANT.\n",
      "\n",
      "E-mail: EXAMPLE@EXAMPLE.COM\n",
      "Website: www.example.com\n",
      "\n",
      "\n"
     ]
    }
   ],
   "source": [
    "print(example)"
   ]
  },
  {
   "cell_type": "code",
   "execution_count": 10,
   "metadata": {
    "ExecuteTime": {
     "end_time": "2020-04-25T23:56:41.728495Z",
     "start_time": "2020-04-25T23:56:41.723304Z"
    }
   },
   "outputs": [
    {
     "name": "stdout",
     "output_type": "stream",
     "text": [
      " To: XYZ\n",
      "\n",
      "CC/BCC\n",
      "\n",
      "\n",
      "Subject: Invitation to a birthday party\n",
      "\n",
      "BLABLABLABLABLA BLOBLOBLOBLOBLOBLO\n",
      "\n",
      "Our reference: XX-00000 Your reference: XXX-0000000-00000 ----------Forwarding process-----------\n",
      "\n",
      "Due to an extraordinarily high number of customer contacts in our service centers and at our stations, we are facing delays in replying to your emails. We apologize for any inconveniences and appeal to your understanding to allow us to prioritize the most urgent inquires.\n",
      "\n",
      "Please use the following links which answer to most of your inquiries\n",
      "\n",
      "\n",
      "\n",
      "As mentioned, the flight was delayed less than 3 hours (30 minutes), passengers  are therefore not entitled to compensation. So, we cannot grant your request.\n",
      "\n",
      "Thank you\n",
      "\n",
      "\n",
      "IMAGE\n",
      "\n",
      "JACQUES LAMA Example - Example Air Transport Example, Jacques Lama Airport\n",
      "\n",
      "NOTE : THIS IS ONLY A USELESS SENTENCE, BECAUSE SOMETIMES THERE ARE OTHER \"TRUE SENTENCES\" AT THE END BUT THEY ARE NOT IMPORTANT.\n",
      "\n",
      "E-mail: @Website: \n",
      "\n",
      "\n"
     ]
    }
   ],
   "source": [
    "preproc_mail = preprocess(example)\n",
    "print(preproc_mail)"
   ]
  },
  {
   "cell_type": "markdown",
   "metadata": {},
   "source": [
    "As you can see, the preprocess functions remove http & www links & other customs replacement, replace mail by @ .\n",
    "\n",
    "But I want to point out the utility of this regex replacement : (r'(?<!\\n)\\n(?![\\n\\t])', ' ')"
   ]
  },
  {
   "cell_type": "code",
   "execution_count": 9,
   "metadata": {
    "ExecuteTime": {
     "end_time": "2020-04-25T23:56:10.667429Z",
     "start_time": "2020-04-25T23:56:10.662471Z"
    }
   },
   "outputs": [
    {
     "name": "stdout",
     "output_type": "stream",
     "text": [
      "\n",
      "As mentioned, the flight was delayed less than 3 hours (30 minutes), passengers \n",
      "are therefore not entitled to compensation. So, we cannot grant your request.\n",
      "\n",
      "-----------------AFTER---------------\n",
      "\n",
      " As mentioned, the flight was delayed less than 3 hours (30 minutes), passengers  are therefore not entitled to compensation. So, we cannot grant your request. \n"
     ]
    }
   ],
   "source": [
    "old, new = (r'(?<!\\n)\\n(?![\\n\\t])', ' ')\n",
    "sub_example_0 = \"\"\"\n",
    "As mentioned, the flight was delayed less than 3 hours (30 minutes), passengers \n",
    "are therefore not entitled to compensation. So, we cannot grant your request.\n",
    "\"\"\"\n",
    "print(sub_example_0)\n",
    "print('-----------------AFTER---------------')\n",
    "print()\n",
    "print(re.sub(old, new, sub_example_0))"
   ]
  },
  {
   "cell_type": "markdown",
   "metadata": {},
   "source": [
    "As you can see, sometimes there are some line breaks that appear before the end of the sentence."
   ]
  },
  {
   "cell_type": "markdown",
   "metadata": {},
   "source": [
    "# Mail to list of lines"
   ]
  },
  {
   "cell_type": "code",
   "execution_count": 11,
   "metadata": {
    "ExecuteTime": {
     "end_time": "2020-04-25T23:57:57.746208Z",
     "start_time": "2020-04-25T23:57:57.735876Z"
    }
   },
   "outputs": [],
   "source": [
    "def mail2lines(corpus):\n",
    "    \"\"\"split the mail into list of lines.\n",
    "    \"\"\"\n",
    "    return corpus.strip().split('\\n')"
   ]
  },
  {
   "cell_type": "code",
   "execution_count": 12,
   "metadata": {
    "ExecuteTime": {
     "end_time": "2020-04-25T23:58:25.709242Z",
     "start_time": "2020-04-25T23:58:25.702359Z"
    }
   },
   "outputs": [
    {
     "data": {
      "text/plain": [
       "['To: XYZ',\n",
       " '',\n",
       " 'CC/BCC',\n",
       " '',\n",
       " '',\n",
       " 'Subject: Invitation to a birthday party',\n",
       " '',\n",
       " 'BLABLABLABLABLA BLOBLOBLOBLOBLOBLO',\n",
       " '',\n",
       " 'Our reference: XX-00000 Your reference: XXX-0000000-00000 ----------Forwarding process-----------',\n",
       " '',\n",
       " 'Due to an extraordinarily high number of customer contacts in our service centers and at our stations, we are facing delays in replying to your emails. We apologize for any inconveniences and appeal to your understanding to allow us to prioritize the most urgent inquires.',\n",
       " '',\n",
       " 'Please use the following links which answer to most of your inquiries',\n",
       " '',\n",
       " '',\n",
       " '',\n",
       " 'As mentioned, the flight was delayed less than 3 hours (30 minutes), passengers  are therefore not entitled to compensation. So, we cannot grant your request.',\n",
       " '',\n",
       " 'Thank you',\n",
       " '',\n",
       " '',\n",
       " 'IMAGE',\n",
       " '',\n",
       " 'JACQUES LAMA Example - Example Air Transport Example, Jacques Lama Airport',\n",
       " '',\n",
       " 'NOTE : THIS IS ONLY A USELESS SENTENCE, BECAUSE SOMETIMES THERE ARE OTHER \"TRUE SENTENCES\" AT THE END BUT THEY ARE NOT IMPORTANT.',\n",
       " '',\n",
       " 'E-mail: @Website:']"
      ]
     },
     "execution_count": 12,
     "metadata": {},
     "output_type": "execute_result"
    }
   ],
   "source": [
    "list_lines = mail2lines(preproc_mail)\n",
    "list_lines"
   ]
  },
  {
   "cell_type": "markdown",
   "metadata": {},
   "source": [
    "Just a simple split by lines"
   ]
  },
  {
   "cell_type": "markdown",
   "metadata": {},
   "source": [
    "# Tricky part : generate_body_mail"
   ]
  },
  {
   "cell_type": "code",
   "execution_count": 13,
   "metadata": {
    "ExecuteTime": {
     "end_time": "2020-04-26T12:59:19.125180Z",
     "start_time": "2020-04-26T12:59:19.113581Z"
    }
   },
   "outputs": [],
   "source": [
    "    def generate_body_mail(self, lines, threshold):\n",
    "        \"\"\"iterate through lines. if the line is a true sentence,\n",
    "           add it to final_sentence.\n",
    "\n",
    "           if probability(sentence to be a true sentence) < threshold, then it is a true sentence.\n",
    "\n",
    "        Parameters\n",
    "        ----------\n",
    "        lines : list\n",
    "                    Represents the list of block of text in the email.\n",
    "        threshold: float\n",
    "                   Lower thresholds will result in more false positives.\n",
    "\n",
    "        Returns\n",
    "        -------\n",
    "        final_sentence : str\n",
    "                         Parsed email block.\n",
    "        \"\"\"\n",
    "\n",
    "        delete_useless = False\n",
    "        sentence_not_taken = 0\n",
    "        final_sentence = ''\n",
    "        for line in lines:\n",
    "            for sent in sentence_tokenize.value.tokenize(line):\n",
    "                if len(sent) < 6:\n",
    "                    continue\n",
    "                if self.compute_prob_not_sentence(sent) < threshold:\n",
    "                    delete_useless = True\n",
    "                    final_sentence += sent + ' '\n",
    "                    sentence_not_taken = 0\n",
    "                    continue\n",
    "                if delete_useless:\n",
    "                    sentence_not_taken += 1\n",
    "                if delete_useless and sentence_not_taken >= 2:\n",
    "                    break\n",
    "            if delete_useless and sentence_not_taken >= 2:\n",
    "                break\n",
    "        return final_sentence\n"
   ]
  },
  {
   "cell_type": "markdown",
   "metadata": {},
   "source": [
    "First we are going to iterate over the lines that we extracted thanks to mail2lines function. (here lines = list_lines).\n",
    "\n",
    "Then we are going to split the lines into sentences thanks to \"sentence_tokenize.value.tokenize(line)\" and iterate over these sentences.\n",
    "\n",
    "Here two examples :"
   ]
  },
  {
   "cell_type": "code",
   "execution_count": 14,
   "metadata": {
    "ExecuteTime": {
     "end_time": "2020-04-26T13:01:53.026949Z",
     "start_time": "2020-04-26T13:01:53.021137Z"
    }
   },
   "outputs": [
    {
     "data": {
      "text/plain": [
       "['Subject: Invitation to a birthday party']"
      ]
     },
     "execution_count": 14,
     "metadata": {},
     "output_type": "execute_result"
    }
   ],
   "source": [
    "sentence_tokenize.value.tokenize('Subject: Invitation to a birthday party')"
   ]
  },
  {
   "cell_type": "code",
   "execution_count": 15,
   "metadata": {
    "ExecuteTime": {
     "end_time": "2020-04-26T13:02:28.793261Z",
     "start_time": "2020-04-26T13:02:28.786832Z"
    }
   },
   "outputs": [
    {
     "data": {
      "text/plain": [
       "['Due to an extraordinarily high number of customer contacts in our service centers and at our stations, we are facing delays in replying to your emails.',\n",
       " 'We apologize for any inconveniences and appeal to your understanding to allow us to prioritize the most urgent inquires.']"
      ]
     },
     "execution_count": 15,
     "metadata": {},
     "output_type": "execute_result"
    }
   ],
   "source": [
    "sentence_tokenize.value.tokenize('Due to an extraordinarily high number of customer contacts in our service centers and at our stations, we are facing delays in replying to your emails. We apologize for any inconveniences and appeal to your understanding to allow us to prioritize the most urgent inquires.')"
   ]
  },
  {
   "cell_type": "markdown",
   "metadata": {},
   "source": [
    "For each sentence, (if the sentence have more than 6 characters) we will compute the probability that the sentence is not a true sentence, if the probability is greater than a certain threshold, it will not be added to the final_sentence.\n",
    "\n",
    "As long as we don't find a TRUE sentence, delete_useless param will be set to false, and we will continue the iteration. \n",
    "\n",
    "As soon as a true sentence is detected, it will be set to True. Then we have some changes in the processus. \n",
    "\n",
    "First of all, as soon as a sentence is detected as a not True sentence, we will add 1 to sentence_not_taken.\n",
    "\n",
    "sentence_not_taken is set 0 when we find another True sentence. If sentence_not_taken is greater or equal to 2, we break from the loop."
   ]
  },
  {
   "cell_type": "code",
   "execution_count": 16,
   "metadata": {
    "ExecuteTime": {
     "end_time": "2020-04-26T13:55:02.471060Z",
     "start_time": "2020-04-26T13:55:02.466587Z"
    }
   },
   "outputs": [],
   "source": [
    "# Im going to give an example\n",
    "\n",
    "# Blabla1     # => Not a true sentence, go to the next one\n",
    "# Blabla2     # => Not a true sentence, go to the next one\n",
    "# Blabla3     # => Not a true sentence, go to the next one\n",
    "# Sentence1  # => True sentence, add it to final_sentence and set delete_useless to True and go to the next one\n",
    "# Blabla4     # => Not a true sentence, but as delete_useless = True , we will add 1 to sentence_not_taken\n",
    "# Sentence2  # => True sentence, add it to final_sentence and set sentence_not_taken to 0 and go to the next one\n",
    "# Sentence3  # => True sentence, add it to final_sentence and go to the next one\n",
    "# Blabla5     # => Not a true sentence, but as delete_useless = True , we will add 1 to sentence_not_taken\n",
    "# Blabla6     # => Not a true sentence, but as delete_useless = True , we will add 1 to sentence_not_taken\n",
    "             # sentence_not_taken >= 2 => BREAK FROM THE LOOP, sentence4 will not be examinated\n",
    "# Sentence 4 \n",
    "\n",
    "\n",
    "# The parser will return \"Sentence1 + Sentence2 + Sentence3\""
   ]
  },
  {
   "cell_type": "markdown",
   "metadata": {},
   "source": [
    "I did that because in the majority of the e-mails I reviewed, the last two Blabla (Blabla5 & Blabla6) are often polite words/closing formulas. \n",
    "\n",
    "For instance:\n",
    "\n",
    "Blabla5 = Sincerely,\n",
    "Blabla6 = Example , Community Manager from Secret Company\n",
    "\n",
    "Then what comes after these sentences is usually not relevant."
   ]
  },
  {
   "cell_type": "markdown",
   "metadata": {},
   "source": [
    "# The main function : compute_prob_not_sentence"
   ]
  },
  {
   "cell_type": "code",
   "execution_count": 17,
   "metadata": {
    "ExecuteTime": {
     "end_time": "2020-04-26T14:32:03.551831Z",
     "start_time": "2020-04-26T14:32:03.542825Z"
    }
   },
   "outputs": [],
   "source": [
    "    def compute_prob_not_sentence(sentence):\n",
    "        \"\"\"Calculate probability that the sentence is a not a TRUE sentence.\n",
    "\n",
    "        Parameters\n",
    "        ----------\n",
    "        sentence : str\n",
    "            Line in email block.\n",
    "\n",
    "        Returns\n",
    "        -------\n",
    "        probability(sentence to be a true sentence) : float\n",
    "        \"\"\"\n",
    "        doc = nlp_stanford.value(sentence)\n",
    "        verb_count = 0\n",
    "        word_count = 0\n",
    "        for sent in doc.sentences:\n",
    "            for word in sent.words:\n",
    "                word_count += 1\n",
    "                if word.upos in [\"VERB\", \"AUX\"]:\n",
    "                    if word.xpos in ['VBG']:\n",
    "                        verb_count += 0.5\n",
    "                    else:\n",
    "                        verb_count += 1\n",
    "        return 1 - verb_count / word_count"
   ]
  },
  {
   "cell_type": "markdown",
   "metadata": {},
   "source": [
    "Given the pos_tag of each word in the sentence, it counts the number of verbs in the phrase and return (1 - number of verbs / number total of word).\n",
    "\n",
    "If the verb is a VBG (Verb, gerund or present participle), it'll count as half a verb."
   ]
  },
  {
   "cell_type": "code",
   "execution_count": 18,
   "metadata": {
    "ExecuteTime": {
     "end_time": "2020-04-26T14:37:57.956564Z",
     "start_time": "2020-04-26T14:37:57.867568Z"
    }
   },
   "outputs": [
    {
     "name": "stdout",
     "output_type": "stream",
     "text": [
      "1.0\n"
     ]
    }
   ],
   "source": [
    "print(MailParser().compute_prob_not_sentence('Subject: Invitation to a birthday party'))\n"
   ]
  },
  {
   "cell_type": "code",
   "execution_count": 22,
   "metadata": {
    "ExecuteTime": {
     "end_time": "2020-04-26T14:39:38.587250Z",
     "start_time": "2020-04-26T14:39:38.510042Z"
    }
   },
   "outputs": [
    {
     "name": "stdout",
     "output_type": "stream",
     "text": [
      "1.0\n"
     ]
    }
   ],
   "source": [
    "print(MailParser().compute_prob_not_sentence('Our reference: XX-00000 Your reference: XXX-0000000-00000 ----------Forwarding process-----------'))"
   ]
  },
  {
   "cell_type": "code",
   "execution_count": 21,
   "metadata": {
    "ExecuteTime": {
     "end_time": "2020-04-26T14:38:42.478786Z",
     "start_time": "2020-04-26T14:38:42.404766Z"
    }
   },
   "outputs": [
    {
     "name": "stdout",
     "output_type": "stream",
     "text": [
      "0.7916666666666666\n"
     ]
    }
   ],
   "source": [
    "print(MailParser().compute_prob_not_sentence('Please use the following links which answer to most of your inquiries'))\n"
   ]
  },
  {
   "cell_type": "code",
   "execution_count": 23,
   "metadata": {
    "ExecuteTime": {
     "end_time": "2020-04-26T14:40:00.777567Z",
     "start_time": "2020-04-26T14:40:00.678912Z"
    }
   },
   "outputs": [
    {
     "name": "stdout",
     "output_type": "stream",
     "text": [
      "0.85\n"
     ]
    }
   ],
   "source": [
    "print(MailParser().compute_prob_not_sentence('We apologize for any inconveniences and appeal to your understanding to allow us to prioritize the most urgent inquires.'))"
   ]
  },
  {
   "cell_type": "code",
   "execution_count": 24,
   "metadata": {
    "ExecuteTime": {
     "end_time": "2020-04-26T14:44:14.497201Z",
     "start_time": "2020-04-26T14:44:14.495122Z"
    }
   },
   "outputs": [],
   "source": [
    "# Note :\n",
    "# I added a comment \"can be customized\" in the code for things that can be customized in order to meet your needs"
   ]
  },
  {
   "cell_type": "markdown",
   "metadata": {},
   "source": [
    "Result of parsing :"
   ]
  },
  {
   "cell_type": "code",
   "execution_count": 5,
   "metadata": {
    "ExecuteTime": {
     "end_time": "2020-04-26T14:59:39.907096Z",
     "start_time": "2020-04-26T14:59:39.280673Z"
    }
   },
   "outputs": [
    {
     "name": "stdout",
     "output_type": "stream",
     "text": [
      "Before parsing :\n",
      "\n",
      "\n",
      "To: XYZ\n",
      "\n",
      "CC/BCC:\n",
      "\n",
      "Subject: Invitation to a birthday party\n",
      "\n",
      "BLABLABLABLABLA\n",
      "BLOBLOBLOBLOBLOBLO\n",
      "\n",
      "Our reference: XX-00000\n",
      "Your reference: XXX-0000000-00000\n",
      "----------Forwarding process-----------\n",
      "\n",
      "Due to an extraordinarily high number of customer contacts in our service centers and at our stations, we are facing delays in replying to your emails. We apologize for any inconveniences and appeal to your understanding to allow us to prioritize the most urgent inquires.  \n",
      "\n",
      "Please use the following links which answer to most of your inquiries:\n",
      "https://www.example.com/en/example/example\n",
      "\n",
      "As mentioned, the flight was delayed less than 3 hours (30 minutes), passengers \n",
      "are therefore not entitled to compensation. So, we cannot grant your request.\n",
      "\n",
      "Thank you\n",
      "\n",
      "\n",
      "IMAGE\n",
      "\n",
      "JACQUES LAMA\n",
      "Example - Example Air Transport\n",
      "Example, Jacques Lama Airport\n",
      "\n",
      "NOTE : THIS IS ONLY A USELESS SENTENCE, BECAUSE SOMETIMES THERE ARE OTHER \"TRUE SENTENCES\" AT THE END BUT THEY ARE NOT IMPORTANT.\n",
      "\n",
      "E-mail: EXAMPLE@EXAMPLE.COM\n",
      "Website: www.example.com\n",
      "\n",
      "\n",
      "\n",
      "--------------------------------------------------\n",
      "\n",
      "After parsing\n",
      "\n",
      "Due to an extraordinarily high number of customer contacts in our service centers and at our stations, we are facing delays in replying to your emails. We apologize for any inconveniences and appeal to your understanding to allow us to prioritize the most urgent inquires. Please use the following links which answer to most of your inquiries As mentioned, the flight was delayed less than 3 hours (30 minutes), passengers  are therefore not entitled to compensation. So, we cannot grant your request. Thank you \n"
     ]
    }
   ],
   "source": [
    "print('Before parsing :')\n",
    "print()\n",
    "print(example)\n",
    "print()\n",
    "print('-'*50)\n",
    "print()\n",
    "print('After parsing')\n",
    "print()\n",
    "print(MailParser().parse_mail(example))"
   ]
  },
  {
   "cell_type": "code",
   "execution_count": null,
   "metadata": {},
   "outputs": [],
   "source": []
  }
 ],
 "metadata": {
  "kernelspec": {
   "display_name": "Python 3",
   "language": "python",
   "name": "python3"
  },
  "language_info": {
   "codemirror_mode": {
    "name": "ipython",
    "version": 3
   },
   "file_extension": ".py",
   "mimetype": "text/x-python",
   "name": "python",
   "nbconvert_exporter": "python",
   "pygments_lexer": "ipython3",
   "version": "3.7.4"
  },
  "toc": {
   "base_numbering": 1,
   "nav_menu": {},
   "number_sections": true,
   "sideBar": true,
   "skip_h1_title": false,
   "title_cell": "Table of Contents",
   "title_sidebar": "Contents",
   "toc_cell": false,
   "toc_position": {},
   "toc_section_display": true,
   "toc_window_display": true
  }
 },
 "nbformat": 4,
 "nbformat_minor": 4
}
