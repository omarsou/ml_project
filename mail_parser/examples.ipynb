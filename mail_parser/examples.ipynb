{
 "cells": [
  {
   "cell_type": "code",
   "execution_count": 1,
   "metadata": {
    "ExecuteTime": {
     "end_time": "2020-04-25T16:06:53.879608Z",
     "start_time": "2020-04-25T16:06:53.860908Z"
    }
   },
   "outputs": [],
   "source": [
    "import sys \n",
    "sys.path.insert(0, '..')\n",
    "%load_ext autoreload\n",
    "%autoreload 2"
   ]
  },
  {
   "cell_type": "code",
   "execution_count": 2,
   "metadata": {
    "ExecuteTime": {
     "end_time": "2020-04-25T16:06:56.872509Z",
     "start_time": "2020-04-25T16:06:56.852839Z"
    }
   },
   "outputs": [],
   "source": [
    "from mail_parser.mail_parser import MailParser"
   ]
  },
  {
   "cell_type": "code",
   "execution_count": 3,
   "metadata": {
    "ExecuteTime": {
     "end_time": "2020-04-25T16:06:57.238687Z",
     "start_time": "2020-04-25T16:06:57.223217Z"
    }
   },
   "outputs": [],
   "source": [
    "test_0 = \"\"\"\n",
    "Dear Passenger,\n",
    "\n",
    "Due to an extraordinarily high number of customer contacts in our service centers and at our stations, we are facing delays in replying to your emails. We apologize for any inconveniences and appeal to your understanding to allow us to prioritize the most urgent inquires.  \n",
    "\n",
    "Please use the following links which answer to most of your inquiries:\n",
    "https://www.example.com/en/example/example\n",
    "\n",
    "Thank you for your understanding!\n",
    "\n",
    "SECRET COMPANY \n",
    "\n",
    "logo1\n",
    "\"\"\""
   ]
  },
  {
   "cell_type": "code",
   "execution_count": 5,
   "metadata": {
    "ExecuteTime": {
     "end_time": "2020-04-25T16:07:03.181406Z",
     "start_time": "2020-04-25T16:07:02.849365Z"
    }
   },
   "outputs": [
    {
     "name": "stdout",
     "output_type": "stream",
     "text": [
      "Due to an extraordinarily high number of customer contacts in our service centers and at our stations, we are facing delays in replying to your emails. We apologize for any inconveniences and appeal to your understanding to allow us to prioritize the most urgent inquires. Please use the following links which answer to most of your inquiries Thank you for your understanding! \n"
     ]
    }
   ],
   "source": [
    "print(MailParser().parse_mail(test_0))"
   ]
  },
  {
   "cell_type": "code",
   "execution_count": 6,
   "metadata": {
    "ExecuteTime": {
     "end_time": "2020-04-25T15:47:13.359122Z",
     "start_time": "2020-04-25T15:47:13.319217Z"
    }
   },
   "outputs": [],
   "source": [
    "test_1 = \"\"\"Hello,\n",
    "\n",
    "Please send your email to EXAMPLE@EXAMPLE.COM\n",
    "\n",
    "Thank you\n",
    "\n",
    "\n",
    " \n",
    "\n",
    "logo1\n",
    "\n",
    "JACQUES LAMA\n",
    "Example - Example Air Transport\n",
    "Example, Jacques Lama Airport\n",
    "\n",
    "E-mail: EXAMPLE@EXAMPLE.COM\n",
    "Website: www.example.com\n",
    "\n",
    " \n",
    "\n",
    " \n",
    "\n",
    "\n",
    "From: \"Support-Example\" <example@example.net>\n",
    "Sent: Friday, April 24, 2020 11:07\n",
    "To: \"example@example.net\" <example@example.net>\n",
    "Subject: Reply to your last feedback - XXXXXX000000 - [ ref:XXXXX0000000:ref ]\n",
    "\n",
    " \n",
    "\n",
    "\n",
    "19, rue example tour eiffel\n",
    "000000 Tour eiffel\n",
    "France\n",
    "example@example.com\n",
    "\n",
    "\n",
    "\n",
    "\n",
    "\n",
    "\n",
    "\n",
    "\n",
    "\n",
    "Subject: Reply to your last feedback \n",
    "\n",
    "\n",
    "\n",
    "\n",
    "\n",
    "Ref. Secret Company: XXXXX-0000000\n",
    "\n",
    "\n",
    "\n",
    "Réf. Secret: \n",
    "\n",
    "\n",
    "\n",
    "Date: XX/XX/XXXX\n",
    "\n",
    "EXAMPLE\n",
    "\n",
    "\n",
    "\n",
    "Madam/Sir,\n",
    "\n",
    "\n",
    "\n",
    "We refer to your latest feedback, under reference XXX-0000, concerning the claim of our client(s) Jacques Example, Jacques Example. \n",
    "\n",
    "\n",
    "\n",
    "Our clients indeed contacted you before but as you never replied to their claim, they decided to entrust us with with their claim.\n",
    "\n",
    "\n",
    "\n",
    "Please proceed with our initial demand.\n",
    "\n",
    "\n",
    "\n",
    "We are looking forward to hear from you.\n",
    "\n",
    "\n",
    "\n",
    "\n",
    "\n",
    "For a bank transfer:\tFor a cheque:\n",
    "Owner of the account: Secret Company\n",
    "Bank: Secret Bank – Paris, France (00000)\n",
    "IBAN: 0000 0000 0000 0000 0000 0000\n",
    "BIC: XXXXX\tTo the order of \" SECRET COMPANY \"\n",
    "Send it to the following address: 19, rue example tour eiffel\n",
    "Obligation to indicate the reference number of the claim on the order of payment\n",
    "So that we can make the payment to our client in accordance with the terms of our agreement, it is necessary that your company specifies the claim reference on the order of payment. Otherwise, your company will not be discharge of its obligation of indemnification.\n",
    "\n",
    "\n",
    "\n",
    "Reference to mention in the payment: XXXX-000000000\n",
    "\n",
    "\n",
    "\n",
    "Sincerely,\n",
    "\n",
    "\n",
    "Secret Department\n",
    "Secret Company\n",
    "\n",
    "\n",
    "\n",
    "ref:aeuizriuzdsksdk_sdhjdsjhsdhjds:ref\n",
    "…\n",
    "\n",
    "[Message tronqué]  Afficher l'intégralité du message\"\"\""
   ]
  },
  {
   "cell_type": "code",
   "execution_count": 7,
   "metadata": {
    "ExecuteTime": {
     "end_time": "2020-04-25T15:47:15.316326Z",
     "start_time": "2020-04-25T15:47:15.155464Z"
    }
   },
   "outputs": [
    {
     "name": "stdout",
     "output_type": "stream",
     "text": [
      "Please send your email to @ Thank you \n"
     ]
    }
   ],
   "source": [
    "print(MailParser().parse_mail(test_1))"
   ]
  },
  {
   "cell_type": "code",
   "execution_count": 8,
   "metadata": {
    "ExecuteTime": {
     "end_time": "2020-04-25T15:47:17.366270Z",
     "start_time": "2020-04-25T15:47:17.323917Z"
    }
   },
   "outputs": [],
   "source": [
    "test_2 = \"\"\"\n",
    "To: XYZ\n",
    "\n",
    "CC/BCC:\n",
    "\n",
    "Subject: Invitation to a birthday party\n",
    "\n",
    "Hi XYZ!\n",
    "\n",
    "Hope this mail finds you in the best of your time. I am very happy to invite you to my birthday party on Nov 03 at ABC Hotel from 7:00 pm to 10:00 pm. The theme of the birthday party is ‘Pirate of the Caribbean”.\n",
    "\n",
    "It would be great if you come and join us at the party. We will have a great time and fun together.\n",
    "\n",
    "See You Soon\n",
    "\n",
    "Sincerely\n",
    "\n",
    "LMN\n",
    "\"\"\""
   ]
  },
  {
   "cell_type": "code",
   "execution_count": 9,
   "metadata": {
    "ExecuteTime": {
     "end_time": "2020-04-25T15:47:18.183694Z",
     "start_time": "2020-04-25T15:47:17.768607Z"
    }
   },
   "outputs": [
    {
     "name": "stdout",
     "output_type": "stream",
     "text": [
      "Hope this mail finds you in the best of your time. I am very happy to invite you to my birthday party on Nov 03 at ABC Hotel from 7:00 pm to 10:00 pm. The theme of the birthday party is ‘Pirate of the Caribbean”. It would be great if you come and join us at the party. We will have a great time and fun together. See You Soon \n"
     ]
    }
   ],
   "source": [
    "print(MailParser().parse_mail(test_2))"
   ]
  },
  {
   "cell_type": "code",
   "execution_count": 10,
   "metadata": {
    "ExecuteTime": {
     "end_time": "2020-04-25T15:47:21.285816Z",
     "start_time": "2020-04-25T15:47:21.246165Z"
    }
   },
   "outputs": [],
   "source": [
    "test_3 = \"\"\"\n",
    "BLABLABLABLABLA\n",
    "BLOBLOBLOBLOBLOBLO\n",
    "\n",
    "Will the recipient of émail@example.com is the same as email@example.com?\n",
    "\n",
    "I want to prevent sending email to some email address with a special character (like é) to go directly to the spam folder by replacing special character in the email address. But I am afraid if I am doing so, the recipient will be different.\n",
    "\n",
    "Would that be a problem if I mean to send an email to émail@example.com but write it as email@example.com? Will it have the same recipient?\n",
    "\n",
    "Thank you GMail team.\n",
    "\n",
    "Warm Regards,\n",
    "Kris\n",
    "\"\"\""
   ]
  },
  {
   "cell_type": "code",
   "execution_count": 11,
   "metadata": {
    "ExecuteTime": {
     "end_time": "2020-04-25T15:47:22.232432Z",
     "start_time": "2020-04-25T15:47:21.871104Z"
    }
   },
   "outputs": [
    {
     "name": "stdout",
     "output_type": "stream",
     "text": [
      "Will the recipient of @is the same as @ I want to prevent sending email to some email address with a special character (like é) to go directly to the spam folder by replacing special character in the email address. But I am afraid if I am doing so, the recipient will be different. Would that be a problem if I mean to send an email to @but write it as @Will it have the same recipient? Thank you GMail team. \n"
     ]
    }
   ],
   "source": [
    "print(MailParser().parse_mail(test_3))"
   ]
  },
  {
   "cell_type": "code",
   "execution_count": 12,
   "metadata": {
    "ExecuteTime": {
     "end_time": "2020-04-25T15:47:23.005865Z",
     "start_time": "2020-04-25T15:47:22.966235Z"
    }
   },
   "outputs": [],
   "source": [
    "test_4 = \"\"\"\n",
    "\t\t\n",
    "\t\t\n",
    "\t\t\n",
    "\tImage\t\n",
    "\tImage\t\n",
    "\t\n",
    "\t\t\n",
    "Our reference: XX-00000\n",
    "Your reference: XXX-0000000-00000\n",
    "----------Forwarding process-----------\n",
    "\n",
    "Dear Sir/Madam,\n",
    "\n",
    "We received your return regarding the compensation request on behalf of our common clients Mr. Jacques Example and Mrs. Example Jacques for their XX-0000 flight.\n",
    "\n",
    "As mentioned, the flight was delayed less than 3 hours (30 minutes), passengers are therefore not entitled to compensation. So, we cannot grant your request.\n",
    "\n",
    "\n",
    "Thank you for your understanding.\n",
    "\n",
    "Kind regards,\n",
    "\n",
    "\n",
    "Example\n",
    "Example Customer Service\n",
    "\t\t\t\n",
    "\t\t\n",
    "\"\"\""
   ]
  },
  {
   "cell_type": "code",
   "execution_count": 13,
   "metadata": {
    "ExecuteTime": {
     "end_time": "2020-04-25T15:47:23.964973Z",
     "start_time": "2020-04-25T15:47:23.468758Z"
    }
   },
   "outputs": [
    {
     "name": "stdout",
     "output_type": "stream",
     "text": [
      "We received your return regarding the compensation request on behalf of our common clients Mr. Jacques Example and Mrs. As mentioned, the flight was delayed less than 3 hours (30 minutes), passengers are therefore not entitled to compensation. So, we cannot grant your request. Thank you for your understanding. \n"
     ]
    }
   ],
   "source": [
    "print(MailParser().parse_mail(test_4))"
   ]
  },
  {
   "cell_type": "code",
   "execution_count": null,
   "metadata": {},
   "outputs": [],
   "source": []
  }
 ],
 "metadata": {
  "kernelspec": {
   "display_name": "Python 3",
   "language": "python",
   "name": "python3"
  },
  "language_info": {
   "codemirror_mode": {
    "name": "ipython",
    "version": 3
   },
   "file_extension": ".py",
   "mimetype": "text/x-python",
   "name": "python",
   "nbconvert_exporter": "python",
   "pygments_lexer": "ipython3",
   "version": "3.7.4"
  },
  "toc": {
   "base_numbering": 1,
   "nav_menu": {},
   "number_sections": true,
   "sideBar": true,
   "skip_h1_title": false,
   "title_cell": "Table of Contents",
   "title_sidebar": "Contents",
   "toc_cell": false,
   "toc_position": {},
   "toc_section_display": true,
   "toc_window_display": false
  }
 },
 "nbformat": 4,
 "nbformat_minor": 2
}
